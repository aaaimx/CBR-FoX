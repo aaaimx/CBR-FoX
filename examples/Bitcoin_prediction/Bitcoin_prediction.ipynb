{
 "cells": [
  {
   "metadata": {},
   "cell_type": "markdown",
   "source": [
    "# Bitcoin Prediction"
   ],
   "id": "c580b82766ba0531"
  },
  {
   "metadata": {},
   "cell_type": "markdown",
   "source": [
    "## 1. Import Necessary Libraries"
   ],
   "id": "86ca881cdf96d1c8"
  },
  {
   "metadata": {
    "ExecuteTime": {
     "end_time": "2025-08-27T18:38:26.121240900Z",
     "start_time": "2025-08-27T18:38:25.936136400Z"
    }
   },
   "cell_type": "code",
   "source": [
    "from cbr_fox.builder.cbr_fox_builder import cbr_fox_builder\n",
    "from cbr_fox.core import cbr_fox\n",
    "from cbr_fox.custom_distance.cci_distance import cci_distance\n",
    "import numpy as np"
   ],
   "id": "77460c101cd8d583",
   "outputs": [
    {
     "ename": "ModuleNotFoundError",
     "evalue": "No module named 'cbr_fox'",
     "output_type": "error",
     "traceback": [
      "\u001B[1;31m---------------------------------------------------------------------------\u001B[0m",
      "\u001B[1;31mModuleNotFoundError\u001B[0m                       Traceback (most recent call last)",
      "Cell \u001B[1;32mIn[1], line 1\u001B[0m\n\u001B[1;32m----> 1\u001B[0m \u001B[38;5;28;01mimport\u001B[39;00m\u001B[38;5;250m \u001B[39m\u001B[38;5;21;01mcbr_fox\u001B[39;00m\n\u001B[0;32m      2\u001B[0m \u001B[38;5;28;01mfrom\u001B[39;00m\u001B[38;5;250m \u001B[39m\u001B[38;5;21;01mfactory\u001B[39;00m\u001B[38;5;21;01m.\u001B[39;00m\u001B[38;5;21;01mcbr_fox_builder\u001B[39;00m\u001B[38;5;250m \u001B[39m\u001B[38;5;28;01mimport\u001B[39;00m cbr_fox_builder\n\u001B[0;32m      3\u001B[0m \u001B[38;5;28;01mfrom\u001B[39;00m\u001B[38;5;250m \u001B[39m\u001B[38;5;21;01mcustom_distance\u001B[39;00m\u001B[38;5;21;01m.\u001B[39;00m\u001B[38;5;21;01mcci_distance\u001B[39;00m\u001B[38;5;250m \u001B[39m\u001B[38;5;28;01mimport\u001B[39;00m cci_distance\n",
      "\u001B[1;31mModuleNotFoundError\u001B[0m: No module named 'cbr_fox'"
     ]
    }
   ],
   "execution_count": 1
  },
  {
   "metadata": {},
   "cell_type": "markdown",
   "source": [
    "## 2. Load the Saved Data   "
   ],
   "id": "e8b6a4d11730aecf"
  },
  {
   "metadata": {
    "ExecuteTime": {
     "end_time": "2025-08-27T20:28:06.306401800Z",
     "start_time": "2025-08-27T20:28:06.194788700Z"
    }
   },
   "cell_type": "code",
   "outputs": [
    {
     "ename": "NameError",
     "evalue": "name 'np' is not defined",
     "output_type": "error",
     "traceback": [
      "\u001B[1;31m---------------------------------------------------------------------------\u001B[0m",
      "\u001B[1;31mNameError\u001B[0m                                 Traceback (most recent call last)",
      "Cell \u001B[1;32mIn[15], line 2\u001B[0m\n\u001B[0;32m      1\u001B[0m \u001B[38;5;66;03m# Load the saved data\u001B[39;00m\n\u001B[1;32m----> 2\u001B[0m data \u001B[38;5;241m=\u001B[39m \u001B[43mnp\u001B[49m\u001B[38;5;241m.\u001B[39mload(\u001B[38;5;124m\"\u001B[39m\u001B[38;5;124mBitcoin_Prediction.npz\u001B[39m\u001B[38;5;124m\"\u001B[39m)\n",
      "\u001B[1;31mNameError\u001B[0m: name 'np' is not defined"
     ]
    }
   ],
   "execution_count": 15,
   "source": [
    "# Load the saved data\n",
    "data = np.load(\"Bitcoin_Prediction.npz\")"
   ],
   "id": "a85ce329f12b1e30"
  },
  {
   "cell_type": "code",
   "outputs": [],
   "source": [],
   "metadata": {
    "collapsed": false
   },
   "id": "45ca74c93e7f79c1"
  },
  {
   "metadata": {},
   "cell_type": "markdown",
   "source": [
    "## 3. Retrieve Variables from the Data"
   ],
   "id": "ad4dd581c9389c6"
  },
  {
   "metadata": {},
   "cell_type": "code",
   "outputs": [],
   "execution_count": null,
   "source": [
    "# Retrieve each variable\n",
    "training_windows = data['training_windows']\n",
    "forecasted_window = data['forecasted_window']\n",
    "target_training_windows = data['target_training_windows']\n",
    "windowsLen = data['windowsLen'].item()  # Extract single value from array\n",
    "componentsLen = data['componentsLen'].item()\n",
    "windowLen = data['windowLen'].item()\n",
    "prediction = data['prediction']"
   ],
   "id": "261650a7a7729051"
  },
  {
   "metadata": {},
   "cell_type": "markdown",
   "source": [
    "## 4. Define CBR-FoX Techniques"
   ],
   "id": "bdde4d1f863ae735"
  },
  {
   "metadata": {},
   "cell_type": "code",
   "outputs": [],
   "execution_count": null,
   "source": [
    "# Define the CBR-FoX techniques with custom distance metrics\n",
    "techniques = [\n",
    "    cbr_fox.cbr_fox(metric=cci_distance, kwargs={\"punishedSumFactor\": 0.5})\n",
    "    #cbr_fox.cbr_fox(metric=\"edr\"),\n",
    "    #cbr_fox.cbr_fox(metric=\"dtw\"),\n",
    "    #cbr_fox.cbr_fox(metric=\"twe\")\n",
    "]"
   ],
   "id": "3886567098477601"
  },
  {
   "metadata": {},
   "cell_type": "markdown",
   "source": [
    "## 5. Build and Train the CBR-FoX Model"
   ],
   "id": "4fe5f4f8c1c75597"
  },
  {
   "metadata": {},
   "cell_type": "code",
   "outputs": [],
   "execution_count": null,
   "source": [
    "# Initialize the CBR-FoX builder\n",
    "p = cbr_fox_builder(techniques)\n",
    "\n",
    "# Train the model with the provided data\n",
    "p.fit(training_windows = training_windows,target_training_windows = target_training_windows, forecasted_window = forecasted_window)"
   ],
   "id": "fd30803a27a8c0da"
  },
  {
   "metadata": {},
   "cell_type": "markdown",
   "source": [
    "## 6. Make Predictions"
   ],
   "id": "cbd6f9e00ff8c88d"
  },
  {
   "metadata": {},
   "cell_type": "code",
   "outputs": [],
   "execution_count": null,
   "source": [
    "# Make predictions and generate explanations\n",
    "p.predict(prediction = prediction,num_cases=3)"
   ],
   "id": "1ad1e57b9c4583ae"
  },
  {
   "metadata": {},
   "cell_type": "markdown",
   "source": [
    "## 7. Visualize Results"
   ],
   "id": "82fb879b4f9e5aec"
  },
  {
   "metadata": {},
   "cell_type": "code",
   "outputs": [],
   "execution_count": null,
   "source": [
    "# Visualize the predictions and results\n",
    "p.visualize_pyplot(\n",
    "    fmt = '--d',\n",
    "    scatter_params={\"s\": 50},\n",
    "    xtick_rotation=50,\n",
    "    title=\"nombre\",\n",
    "    xlabel=\"x \",\n",
    "    ylabel=\"y\"\n",
    ")"
   ],
   "id": "2fc5c6ce201b9d6f"
  }
 ],
 "metadata": {
  "kernelspec": {
   "display_name": "Python 3",
   "language": "python",
   "name": "python3"
  },
  "language_info": {
   "codemirror_mode": {
    "name": "ipython",
    "version": 2
   },
   "file_extension": ".py",
   "mimetype": "text/x-python",
   "name": "python",
   "nbconvert_exporter": "python",
   "pygments_lexer": "ipython2",
   "version": "2.7.6"
  }
 },
 "nbformat": 4,
 "nbformat_minor": 5
}
