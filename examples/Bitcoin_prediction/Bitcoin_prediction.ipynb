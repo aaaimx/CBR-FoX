{
 "cells": [
  {
   "cell_type": "markdown",
   "id": "c580b82766ba0531",
   "metadata": {},
   "source": [
    "# Bitcoin Prediction"
   ]
  },
  {
   "cell_type": "markdown",
   "id": "86ca881cdf96d1c8",
   "metadata": {},
   "source": [
    "## 1. Import Necessary Libraries"
   ]
  },
  {
   "cell_type": "code",
   "execution_count": null,
   "id": "77460c101cd8d583",
   "metadata": {
    "ExecuteTime": {
     "end_time": "2025-08-27T18:38:26.121240900Z",
     "start_time": "2025-08-27T18:38:25.936136400Z"
    }
   },
   "outputs": [],
   "source": [
    "import sys\n",
    "import os\n",
    "sys.path.insert(0, os.path.abspath(os.path.join(os.getcwd(), '..', '..')))\n",
    "\n",
    "from cbr_fox.core import cbr_fox\n",
    "from cbr_fox.builder import cbr_fox_builder\n",
    "from cbr_fox.custom_distance import cci_distance\n",
    "import numpy as np"
   ]
  },
  {
   "cell_type": "markdown",
   "id": "e8b6a4d11730aecf",
   "metadata": {},
   "source": [
    "## 2. Load the Saved Data   "
   ]
  },
  {
   "cell_type": "code",
   "execution_count": null,
   "id": "a85ce329f12b1e30",
   "metadata": {
    "ExecuteTime": {
     "end_time": "2025-08-27T20:28:06.306401800Z",
     "start_time": "2025-08-27T20:28:06.194788700Z"
    }
   },
   "outputs": [],
   "source": [
    "# Load the saved data\n",
    "data = np.load(\"Bitcoin_Prediction.npz\")"
   ]
  },
  {
   "cell_type": "markdown",
   "id": "ad4dd581c9389c6",
   "metadata": {},
   "source": [
    "## 3. Retrieve Variables from the Data"
   ]
  },
  {
   "cell_type": "code",
   "execution_count": null,
   "id": "261650a7a7729051",
   "metadata": {},
   "outputs": [],
   "source": [
    "# Retrieve each variable\n",
    "training_windows = data['training_windows']\n",
    "forecasted_window = data['forecasted_window']\n",
    "target_training_windows = data['target_training_windows']\n",
    "windowsLen = data['windowsLen'].item()  # Extract single value from array\n",
    "componentsLen = data['componentsLen'].item()\n",
    "windowLen = data['windowLen'].item()\n",
    "prediction = data['prediction']"
   ]
  },
  {
   "cell_type": "markdown",
   "id": "bdde4d1f863ae735",
   "metadata": {},
   "source": [
    "## 4. Define CBR-FoX Techniques"
   ]
  },
  {
   "cell_type": "code",
   "execution_count": null,
   "id": "3886567098477601",
   "metadata": {},
   "outputs": [],
   "source": [
    "# Define the CBR-FoX techniques with custom distance metrics\n",
    "techniques = [\n",
    "    cbr_fox.cbr_fox(metric=cci_distance, kwargs={\"punishedSumFactor\": 0.5})\n",
    "    #cbr_fox.cbr_fox(metric=\"edr\"),\n",
    "    #cbr_fox.cbr_fox(metric=\"dtw\"),\n",
    "    #cbr_fox.cbr_fox(metric=\"twe\")\n",
    "]"
   ]
  },
  {
   "cell_type": "markdown",
   "id": "4fe5f4f8c1c75597",
   "metadata": {},
   "source": [
    "## 5. Build and Train the CBR-FoX Model"
   ]
  },
  {
   "cell_type": "code",
   "execution_count": null,
   "id": "fd30803a27a8c0da",
   "metadata": {},
   "outputs": [],
   "source": [
    "# Initialize the CBR-FoX builder\n",
    "p = cbr_fox_builder(techniques)\n",
    "\n",
    "# Train the model with the provided data\n",
    "p.fit(training_windows = training_windows,target_training_windows = target_training_windows, forecasted_window = forecasted_window)"
   ]
  },
  {
   "cell_type": "markdown",
   "id": "cbd6f9e00ff8c88d",
   "metadata": {},
   "source": [
    "## 6. Make Predictions"
   ]
  },
  {
   "cell_type": "code",
   "execution_count": null,
   "id": "1ad1e57b9c4583ae",
   "metadata": {},
   "outputs": [],
   "source": [
    "# Make predictions and generate explanations\n",
    "p.predict(prediction = prediction,num_cases=3)"
   ]
  },
  {
   "cell_type": "markdown",
   "id": "82fb879b4f9e5aec",
   "metadata": {},
   "source": [
    "## 7. Visualize Results"
   ]
  },
  {
   "cell_type": "code",
   "execution_count": null,
   "id": "2fc5c6ce201b9d6f",
   "metadata": {},
   "outputs": [],
   "source": [
    "# Visualize the predictions and results\n",
    "p.visualize_pyplot(\n",
    "    fmt = '--d',\n",
    "    scatter_params={\"s\": 50},\n",
    "    xtick_rotation=50,\n",
    "    title=\"Bitcoin Price Prediction\",\n",
    "    xlabel=\"x \",\n",
    "    ylabel=\"y\"\n",
    ")"
   ]
  },
  {
   "cell_type": "code",
   "execution_count": null,
   "id": "64161b78aa5fa145",
   "metadata": {
    "ExecuteTime": {
     "end_time": "2025-08-28T22:28:24.877185800Z",
     "start_time": "2025-08-28T22:28:23.310255700Z"
    },
    "collapsed": false
   },
   "outputs": [],
   "source": [
    "from cbr_fox.core import cbr_fox\n",
    "from cbr_fox.builder.cbr_fox_builder import cbr_fox_builder\n",
    "from cbr_fox.custom_distance import cci_distance\n",
    "import numpy as np"
   ]
  },
  {
   "cell_type": "code",
   "execution_count": null,
   "id": "7eb38e2aa6b5ae33",
   "metadata": {
    "ExecuteTime": {
     "end_time": "2025-08-28T22:32:18.264644100Z",
     "start_time": "2025-08-28T22:32:15.502487200Z"
    },
    "collapsed": false
   },
   "outputs": [],
   "source": [
    "\n",
    "\n",
    "from cbr_fox.core import cbr_fox\n",
    "from cbr_fox.builder import cbr_fox_builder\n",
    "from cbr_fox.custom_distance import cci_distance\n",
    "\n",
    "#from src.core import cbr_fox\n",
    "#from src.builder import cbr_fox_builder\n",
    "#from src.custom_distance.cci_distance import cci_distance\n",
    "import numpy as np\n",
    "\n",
    "# Load the saved data\n",
    "data = np.load(\"../../examples/Weather_forecasting/Weather_forecasting.npz\")\n",
    "\n",
    "# Retrieve each variable\n",
    "training_windows = data['training_windows']\n",
    "forecasted_window = data['forecasted_window']\n",
    "target_training_windows = data['target_training_windows']\n",
    "windowsLen = data['windowsLen'].item()  # Extract single value from array\n",
    "componentsLen = data['componentsLen'].item()\n",
    "windowLen = data['windowLen'].item()\n",
    "prediction = data['prediction']\n",
    "\n",
    "techniques = [\n",
    "    cbr_fox(metric=cci_distance, kwargs={\"punishedSumFactor\": 0.5})\n",
    "    #cbr_fox.cbr_fox(metric=\"edr\"),\n",
    "    #cbr_fox.cbr_fox(metric=\"dtw\"),\n",
    "    #cbr_fox.cbr_fox(metric=\"twe\")\n",
    "]\n",
    "p = cbr_fox_builder(techniques)\n",
    "p.fit(training_windows = training_windows,target_training_windows = target_training_windows, forecasted_window = forecasted_window)\n",
    "p.predict(prediction = prediction,num_cases=3)\n",
    "# p.plot_correlation()\n",
    "\n",
    "p.visualize_pyplot(\n",
    "    fmt = '--o',\n",
    "    legend = True,\n",
    "    scatter_params = {\"s\": 80, \"c\": \"red\", \"alpha\": 0.6, \"edgecolors\": \"black\"},\n",
    "    xtick_rotation = 30,\n",
    "    title=\"Weather Forecasting\",\n",
    "    xlabel=\"Slices\",\n",
    "    ylabel=\"Metric Value\"\n",
    ")\n",
    "import matplotlib.pyplot as plt\n",
    "plt.show()"
   ]
  },
  {
   "cell_type": "code",
   "execution_count": null,
   "id": "59e8c3ba3f42281f",
   "metadata": {
    "ExecuteTime": {
     "end_time": "2025-08-28T22:32:01.954810100Z",
     "start_time": "2025-08-28T22:31:53.671181Z"
    },
    "collapsed": false
   },
   "outputs": [],
   "source": [
    "from cbr_fox.core import cbr_fox\n",
    "from cbr_fox.builder.cbr_fox_builder import cbr_fox_builder\n",
    "from cbr_fox.custom_distance import cci_distance\n",
    "import numpy as np\n",
    "\n",
    "# Load the saved data\n",
    "data = np.load(\"Bitcoin_Prediction.npz\")\n",
    "\n",
    "# Retrieve each variable\n",
    "training_windows = data['training_windows']\n",
    "forecasted_window = data['forecasted_window']\n",
    "target_training_windows = data['target_training_windows']\n",
    "windowsLen = data['windowsLen'].item()  # Extract single value from array\n",
    "componentsLen = data['componentsLen'].item()\n",
    "windowLen = data['windowLen'].item()\n",
    "prediction = data['prediction']\n",
    "\n",
    "techniques = [\n",
    "    # cbr_fox.cbr_fox(metric=cci_distance, kwargs={\"punishedSumFactor\": 0.5})\n",
    "    cbr_fox(metric=\"edr\")\n",
    "    #cbr_fox.cbr_fox(metric=\"dtw\"),\n",
    "    #cbr_fox.cbr_fox(metric=\"twe\")\n",
    "]\n",
    "p = cbr_fox_builder(techniques)\n",
    "\n",
    "p.fit(training_windows = training_windows, target_training_windows = target_training_windows, forecasted_window = forecasted_window)\n",
    "p.predict(prediction = prediction, num_cases=5, mode=\"weighted\")\n",
    "# p.plot_correlation()\n",
    "#\n",
    "p.visualize_pyplot(\n",
    "    mode = \"combined\",\n",
    "    n_windows = 5,\n",
    "    fmt = '--d',\n",
    "    scatter_params={\"s\": 50},\n",
    "    xtick_rotation=50,\n",
    "    title=\"Title\",\n",
    "    xlabel=\"x\",\n",
    "    ylabel=\"y\"\n",
    ")"
   ]
  }
 ],
 "metadata": {
  "kernelspec": {
   "display_name": ".venv",
   "language": "python",
   "name": "python3"
  },
  "language_info": {
   "codemirror_mode": {
    "name": "ipython",
    "version": 2
   },
   "file_extension": ".py",
   "mimetype": "text/x-python",
   "name": "python",
   "nbconvert_exporter": "python",
   "pygments_lexer": "ipython2",
   "version": "3.11.9"
  }
 },
 "nbformat": 4,
 "nbformat_minor": 5
}
