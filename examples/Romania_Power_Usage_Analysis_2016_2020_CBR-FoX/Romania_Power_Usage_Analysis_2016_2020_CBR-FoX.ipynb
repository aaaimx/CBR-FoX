{
 "cells": [
  {
   "metadata": {},
   "cell_type": "markdown",
   "source": "# Power Usage Analysis in Romania (2016-2020) using CBR-FoX",
   "id": "c580b82766ba0531"
  },
  {
   "metadata": {},
   "cell_type": "markdown",
   "source": "## 1. Import Necessary Libraries",
   "id": "86ca881cdf96d1c8"
  },
  {
   "metadata": {
    "ExecuteTime": {
     "end_time": "2024-12-02T05:42:09.518586Z",
     "start_time": "2024-12-02T05:42:07.386Z"
    }
   },
   "cell_type": "code",
   "source": [
    "import cbr_fox\n",
    "from factory.cbr_fox_builder import cbr_fox_builder\n",
    "from custom_distance.cci_distance import cci_distance\n",
    "import numpy as np"
   ],
   "id": "77460c101cd8d583",
   "outputs": [],
   "execution_count": 1
  },
  {
   "metadata": {},
   "cell_type": "markdown",
   "source": "## 2. Load the Saved Data   ",
   "id": "e8b6a4d11730aecf"
  },
  {
   "metadata": {},
   "cell_type": "code",
   "outputs": [],
   "execution_count": null,
   "source": [
    "# Load the saved data\n",
    "data = np.load(\"Romania_Power_Usage_Analysis_2016_2020_CBR-FoX.npz\")"
   ],
   "id": "a85ce329f12b1e30"
  },
  {
   "metadata": {},
   "cell_type": "markdown",
   "source": "## 3. Retrieve Variables from the Data",
   "id": "ad4dd581c9389c6"
  },
  {
   "metadata": {},
   "cell_type": "code",
   "outputs": [],
   "execution_count": null,
   "source": [
    "# Retrieve each variable\n",
    "training_windows = data['training_windows']\n",
    "forecasted_window = data['forecasted_window']\n",
    "target_training_windows = data['target_training_windows']\n",
    "windowsLen = data['windowsLen'].item()  # Extract single value from array\n",
    "componentsLen = data['componentsLen'].item()\n",
    "windowLen = data['windowLen'].item()\n",
    "prediction = data['prediction']"
   ],
   "id": "261650a7a7729051"
  },
  {
   "metadata": {},
   "cell_type": "markdown",
   "source": "## 4. Define CBR-FoX Techniques",
   "id": "bdde4d1f863ae735"
  },
  {
   "metadata": {},
   "cell_type": "code",
   "outputs": [],
   "execution_count": null,
   "source": [
    "# Define the CBR-FoX techniques with custom distance metrics\n",
    "techniques = [\n",
    "    cbr_fox.cbr_fox(metric=cci_distance, kwargs={\"punishedSumFactor\": 0.5}),\n",
    "    cbr_fox.cbr_fox(metric=cci_distance, kwargs={\"punishedSumFactor\": 0.7})\n",
    "]"
   ],
   "id": "3886567098477601"
  },
  {
   "metadata": {},
   "cell_type": "markdown",
   "source": "## 5. Build and Train the CBR-FoX Model",
   "id": "4fe5f4f8c1c75597"
  },
  {
   "metadata": {},
   "cell_type": "code",
   "outputs": [],
   "execution_count": null,
   "source": [
    "# Initialize the CBR-FoX builder\n",
    "p = cbr_fox_builder(techniques)\n",
    "\n",
    "# Train the model with the provided data\n",
    "p.fit(training_windows=training_windows,\n",
    "      target_training_windows=target_training_windows.reshape(-1, 1),\n",
    "      forecasted_window=forecasted_window)"
   ],
   "id": "fd30803a27a8c0da"
  },
  {
   "metadata": {},
   "cell_type": "markdown",
   "source": "## 6. Make Predictions",
   "id": "cbd6f9e00ff8c88d"
  },
  {
   "metadata": {},
   "cell_type": "code",
   "outputs": [],
   "execution_count": null,
   "source": [
    "# Make predictions and generate explanations\n",
    "p.predict(prediction=prediction, num_cases=5)"
   ],
   "id": "1ad1e57b9c4583ae"
  },
  {
   "metadata": {},
   "cell_type": "markdown",
   "source": "## 7. Visualize Results",
   "id": "82fb879b4f9e5aec"
  },
  {
   "metadata": {},
   "cell_type": "code",
   "outputs": [],
   "execution_count": null,
   "source": [
    "# Visualize the predictions and results\n",
    "p.visualize_pyplot(\n",
    "    fmt='--d',\n",
    "    scatter_params={\"s\": 50},\n",
    "    xtick_rotation=50,\n",
    "    title=\"Power Usage Predictions in Romania (2016-2020)\",\n",
    "    xlabel=\"Time (Months)\",\n",
    "    ylabel=\"Power Usage (kWh)\"\n",
    ")"
   ],
   "id": "2fc5c6ce201b9d6f"
  }
 ],
 "metadata": {
  "kernelspec": {
   "display_name": "Python 3",
   "language": "python",
   "name": "python3"
  },
  "language_info": {
   "codemirror_mode": {
    "name": "ipython",
    "version": 2
   },
   "file_extension": ".py",
   "mimetype": "text/x-python",
   "name": "python",
   "nbconvert_exporter": "python",
   "pygments_lexer": "ipython2",
   "version": "2.7.6"
  }
 },
 "nbformat": 4,
 "nbformat_minor": 5
}
