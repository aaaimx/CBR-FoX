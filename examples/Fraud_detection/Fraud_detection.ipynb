{
 "cells": [
  {
   "cell_type": "markdown",
   "id": "c580b82766ba0531",
   "metadata": {},
   "source": [
    "# Power Usage Analysis in Romania (2016-2020) using CBR-FoX"
   ]
  },
  {
   "cell_type": "markdown",
   "id": "86ca881cdf96d1c8",
   "metadata": {},
   "source": [
    "## 1. Import Necessary Libraries"
   ]
  },
  {
   "cell_type": "code",
   "execution_count": null,
   "id": "77460c101cd8d583",
   "metadata": {
    "ExecuteTime": {
     "end_time": "2024-12-02T05:42:09.518586Z",
     "start_time": "2024-12-02T05:42:07.386Z"
    }
   },
   "outputs": [],
   "source": [
    "import sys\n",
    "import os\n",
    "import numpy as np\n",
    "\n",
    "sys.path.insert(0, os.path.abspath(os.path.join(os.getcwd(), '..', '..')))\n",
    "\n",
    "from cbr_fox.core import cbr_fox\n",
    "from cbr_fox.builder import cbr_fox_builder\n",
    "from cbr_fox.custom_distance import cci_distance\n"
   ]
  },
  {
   "cell_type": "markdown",
   "id": "e8b6a4d11730aecf",
   "metadata": {},
   "source": [
    "## 2. Load the Saved Data   "
   ]
  },
  {
   "cell_type": "code",
   "execution_count": null,
   "id": "a85ce329f12b1e30",
   "metadata": {},
   "outputs": [],
   "source": [
    "# Load the saved data\n",
    "data = np.load(\"Fraud_detection.npz\")"
   ]
  },
  {
   "cell_type": "markdown",
   "id": "ad4dd581c9389c6",
   "metadata": {},
   "source": [
    "## 3. Retrieve Variables from the Data"
   ]
  },
  {
   "cell_type": "code",
   "execution_count": null,
   "id": "261650a7a7729051",
   "metadata": {},
   "outputs": [],
   "source": [
    "# Retrieve each variable\n",
    "training_windows = data['training_windows']\n",
    "forecasted_window = data['forecasted_window']\n",
    "target_training_windows = data['target_training_windows']\n",
    "windowsLen = data['windowsLen'].item()  # Extract single value from array\n",
    "componentsLen = data['componentsLen'].item()\n",
    "windowLen = data['windowLen'].item()\n",
    "prediction = data['prediction']"
   ]
  },
  {
   "cell_type": "markdown",
   "id": "bdde4d1f863ae735",
   "metadata": {},
   "source": [
    "## 4. Define CBR-FoX Techniques"
   ]
  },
  {
   "cell_type": "code",
   "execution_count": null,
   "id": "3886567098477601",
   "metadata": {},
   "outputs": [],
   "source": [
    "# Define the CBR-FoX techniques with custom distance metrics\n",
    "techniques = [\n",
    "    cbr_fox(metric=cci_distance, kwargs={\"punishedSumFactor\": 0.6})\n",
    "    #cbr_fox(metric=\"edr\"),\n",
    "    #cbr_fox(metric=\"dtw\"),\n",
    "    #cbr_fox(metric=\"twe\")\n",
    "]"
   ]
  },
  {
   "cell_type": "markdown",
   "id": "4fe5f4f8c1c75597",
   "metadata": {},
   "source": [
    "## 5. Build and Train the CBR-FoX Model"
   ]
  },
  {
   "cell_type": "code",
   "execution_count": null,
   "id": "fd30803a27a8c0da",
   "metadata": {},
   "outputs": [],
   "source": [
    "# Initialize the CBR-FoX builder\n",
    "p = cbr_fox_builder(techniques)\n",
    "\n",
    "# Train the model with the provided data\n",
    "p.fit(training_windows=training_windows,\n",
    "      target_training_windows=target_training_windows,\n",
    "      forecasted_window=forecasted_window)"
   ]
  },
  {
   "cell_type": "markdown",
   "id": "cbd6f9e00ff8c88d",
   "metadata": {},
   "source": [
    "## 6. Make Predictions"
   ]
  },
  {
   "cell_type": "code",
   "execution_count": null,
   "id": "1ad1e57b9c4583ae",
   "metadata": {},
   "outputs": [],
   "source": [
    "# Make predictions and generate explanations\n",
    "p.predict(prediction=prediction, num_cases=5)"
   ]
  },
  {
   "cell_type": "markdown",
   "id": "82fb879b4f9e5aec",
   "metadata": {},
   "source": [
    "## 7. Visualize Results"
   ]
  },
  {
   "cell_type": "code",
   "execution_count": null,
   "id": "2fc5c6ce201b9d6f",
   "metadata": {},
   "outputs": [],
   "source": [
    "# Visualize the predictions and results\n",
    "p.visualize_pyplot(\n",
    "    fmt = '--d',\n",
    "    legend = False,\n",
    "    scatter_params={\"s\": 50},\n",
    "    xtick_rotation=50,\n",
    "    title=\"Fraud Detection\",\n",
    "    xlabel=\"Slice\",\n",
    "    ylabel=\"PCA Values\"\n",
    ")"
   ]
  }
 ],
 "metadata": {
  "kernelspec": {
   "display_name": ".venv",
   "language": "python",
   "name": "python3"
  },
  "language_info": {
   "codemirror_mode": {
    "name": "ipython",
    "version": 3
   },
   "file_extension": ".py",
   "mimetype": "text/x-python",
   "name": "python",
   "nbconvert_exporter": "python",
   "pygments_lexer": "ipython3",
   "version": "3.11.9"
  }
 },
 "nbformat": 4,
 "nbformat_minor": 5
}
